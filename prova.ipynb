{
 "cells": [
  {
   "cell_type": "code",
   "execution_count": 1,
   "source": [
    "from graph_tool.centrality import betweenness, closeness\n",
    "from numpy import NaN\n",
    "import pandas as pd\n",
    "from graph_tool.all import *\n",
    "from graph_tool.clustering import *"
   ],
   "outputs": [],
   "metadata": {}
  },
  {
   "cell_type": "code",
   "execution_count": 2,
   "source": [
    "df = pd.read_csv(\"soc-sign-bitcoinotc.csv\")\n",
    "print(df.head())"
   ],
   "outputs": [
    {
     "output_type": "stream",
     "name": "stdout",
     "text": [
      "    6   2  4  1289241911.72836\n",
      "0   6   5  2      1.289242e+09\n",
      "1   1  15  1      1.289243e+09\n",
      "2   4   3  7      1.289245e+09\n",
      "3  13  16  8      1.289254e+09\n",
      "4  13  10  8      1.289254e+09\n"
     ]
    }
   ],
   "metadata": {}
  },
  {
   "cell_type": "code",
   "execution_count": 21,
   "source": [
    "g = Graph(directed=True)\n",
    "g.vp['name'] = g.new_vp('string')\n",
    "g.ep['weight'] = g.new_ep('int')\n",
    "g.ep['timestamp'] = g.new_ep('float')\n",
    "nodes = set()\n",
    "\n",
    "for i,row in df.iterrows():\n",
    "    a,b,c,d = row\n",
    "    nodes.add(a)\n",
    "    nodes.add(b)\n",
    "for n in nodes:\n",
    "    v = g.add_vertex()\n",
    "    g.vp['name'][v] = n\n",
    "nodes = list(nodes)\n",
    "for i,row in df.iterrows():\n",
    "    a,b,c,d = row\n",
    "    s = nodes.index(a)\n",
    "    t = nodes.index(b)\n",
    "    vs = g.vertex(s)\n",
    "    vt = g.vertex(t)\n",
    "    e = g.add_edge(vs, vt)\n",
    "    g.ep['weight'][e] = c\n",
    "    g.ep['timestamp'][e] = d\n",
    "print(\"Vertex count:\",g.num_vertices())\n",
    "print(\"Edge count:\",g.num_edges())"
   ],
   "outputs": [
    {
     "output_type": "stream",
     "name": "stdout",
     "text": [
      "Vertex count: 5881\n",
      "Edge count: 35591\n"
     ]
    }
   ],
   "metadata": {}
  },
  {
   "cell_type": "markdown",
   "source": [],
   "metadata": {}
  },
  {
   "cell_type": "code",
   "execution_count": 24,
   "source": [
    "a = closeness(g).get_array()\n",
    "c_x = [0,0]\n",
    "for v,ct in enumerate(a):\n",
    "    if c_x[0] < ct and ct != NaN:\n",
    "        c_x[0] = ct\n",
    "        c_x[1] = v\n",
    "print(\"max closeness centrality vertex\",c_x[1],\"with value: \",c_x[0])\n",
    "\n",
    "b = betweenness(g)[0].get_array()\n",
    "b_x = [0,0]\n",
    "for v,bt in enumerate(b):\n",
    "    if b_x[0] < bt and bt != NaN:\n",
    "        b_x[0] = bt\n",
    "        b_x[1] = v\n",
    "print(\"max betweenness centrality vertex\",b_x[1],\"with value: \",b_x[0])\n",
    "\n",
    "cc = global_clustering(g)\n",
    "print(\"Global clustering coefficient:\",cc[0],\"with std:\",cc[1])"
   ],
   "outputs": [
    {
     "output_type": "stream",
     "name": "stdout",
     "text": [
      "max closeness centrality vertex 655 with value:  1.0\n",
      "max betweenness centrality vertex 26 with value:  0.14210976035626377\n",
      "Global clustering coefficient: 0.06030661970574365 with std: 0.012994993273758842\n"
     ]
    }
   ],
   "metadata": {}
  },
  {
   "cell_type": "code",
   "execution_count": 26,
   "source": [
    "f = motifs(g,k=3)\n",
    "ind = f[1].index(max(f[1]))\n",
    "print(\"Most significant subgraph:\")\n",
    "graph_draw(f[0][ind], vertex_text=f[0][ind].vertex_index,output_size=(100, 100))\n"
   ],
   "outputs": [
    {
     "output_type": "stream",
     "name": "stdout",
     "text": [
      "Most significant subgraph:\n"
     ]
    },
    {
     "output_type": "display_data",
     "data": {
      "text/plain": [
       "<IPython.core.display.Image object>"
      ],
      "image/png": "[encoded data removed]"
     },
     "metadata": {
      "image/png": {
       "width": 100,
       "height": 56
      }
     }
    },
    {
     "output_type": "execute_result",
     "data": {
      "text/plain": [
       "<VertexPropertyMap object with value type 'vector<double>', for Graph 0x7f119006a910, at 0x7f11173f1580>"
      ]
     },
     "metadata": {},
     "execution_count": 26
    }
   ],
   "metadata": {}
  }
 ],
 "metadata": {
  "interpreter": {
   "hash": "767d51c1340bd893661ea55ea3124f6de3c7a262a8b4abca0554b478b1e2ff90"
  },
  "kernelspec": {
   "name": "python3",
   "display_name": "Python 3.9.7 64-bit"
  },
  "language_info": {
   "codemirror_mode": {
    "name": "ipython",
    "version": 3
   },
   "file_extension": ".py",
   "mimetype": "text/x-python",
   "name": "python",
   "nbconvert_exporter": "python",
   "pygments_lexer": "ipython3",
   "version": "3.9.7"
  }
 },
 "nbformat": 4,
 "nbformat_minor": 2
}