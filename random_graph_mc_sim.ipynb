{
 "cells": [
  {
   "cell_type": "code",
   "execution_count": 1,
   "metadata": {},
   "outputs": [],
   "source": [
    "import itertools\n",
    "import sys\n",
    "import threading\n",
    "from graph_tool.all import Graph, motifs, random_rewire, isomorphism\n",
    "import pandas as pd\n",
    "from tqdm import tqdm\n",
    "import time"
   ]
  },
  {
   "cell_type": "code",
   "execution_count": 2,
   "metadata": {},
   "outputs": [],
   "source": [
    "df = pd.read_csv(\"data/soc-sign-bitcoinotc.csv\")\n",
    "file = open(\"results/mc_sim3.txt\",\"a\")\n",
    "done = False"
   ]
  },
  {
   "cell_type": "code",
   "execution_count": 3,
   "metadata": {},
   "outputs": [],
   "source": [
    "def subRoutine(r_g,it):\n",
    "    temp = []\n",
    "    for i in range(0,it):\n",
    "        random_rewire(r_g, model='erdos',n_iter=100*r_g.num_edges(), edge_sweep=False, parallel_edges=False, self_loops=False)\n",
    "        temp.append(motifs(r_g, k=3))\n",
    "    pos = temp[0][0]\n",
    "    res = [0]*len(pos)\n",
    "    cnt = [0]*len(pos)\n",
    "    for item in temp:\n",
    "        subg, count = item\n",
    "        for k,el in enumerate(subg):\n",
    "            flag = 0\n",
    "            for j,s in enumerate(pos):\n",
    "                if(isomorphism(s,el)):\n",
    "                    flag = 1\n",
    "                    res[j] += count[k]\n",
    "                    cnt[j] += 1\n",
    "            if(flag==0):\n",
    "                pos.append(el)\n",
    "                res.append(count[k])\n",
    "                cnt.append(1)\n",
    "    return pos,[i/cnt[j] for j,i in enumerate(res)]"
   ]
  },
  {
   "cell_type": "code",
   "execution_count": 5,
   "metadata": {},
   "outputs": [],
   "source": [
    "def animate():\n",
    "    for c in itertools.cycle(['|', '/', '-', '\\\\']):\n",
    "        if done:\n",
    "            break\n",
    "        sys.stdout.write('\\rLoading Graph from file ' + c)\n",
    "        sys.stdout.flush()\n",
    "        time.sleep(0.1)\n",
    "t = threading.Thread(target=animate)"
   ]
  },
  {
   "cell_type": "code",
   "execution_count": 6,
   "metadata": {},
   "outputs": [
    {
     "name": "stdout",
     "output_type": "stream",
     "text": [
      "Loading Graph from file \\"
     ]
    }
   ],
   "source": [
    "t.start()\n",
    "g = Graph(directed=True)\n",
    "g.vp['name'] = g.new_vp('string')\n",
    "nodes = set()\n",
    "\n",
    "for i,row in df.iterrows():\n",
    "    a,b,c,d = row\n",
    "    nodes.add(a)\n",
    "    nodes.add(b)\n",
    "for n in nodes:\n",
    "    v = g.add_vertex()\n",
    "    g.vp['name'][v] = n\n",
    "nodes = list(nodes)\n",
    "for i,row in df.iterrows():\n",
    "    a,b,c,d = row\n",
    "    s = nodes.index(a)\n",
    "    t = nodes.index(b)\n",
    "    vs = g.vertex(s)\n",
    "    vt = g.vertex(t)\n",
    "    e = g.add_edge(vs, vt)\n",
    "done = True"
   ]
  },
  {
   "cell_type": "code",
   "execution_count": 12,
   "metadata": {},
   "outputs": [
    {
     "name": "stderr",
     "output_type": "stream",
     "text": [
      "100%|██████████| 1000/1000 [3:05:13<00:00, 11.11s/it] \n"
     ]
    }
   ],
   "source": [
    "results = []\n",
    "with tqdm(total=1000) as pbar:\n",
    "    for v in range(1000):\n",
    "        x = results.append(subRoutine(Graph(g),10))\n",
    "        file.write(str(results[v][1][:7])+\"\\n\")\n",
    "        file.flush()\n",
    "        pbar.update(1)\n",
    "    file.close()\n",
    "pbar.close()"
   ]
  }
 ],
 "metadata": {
  "interpreter": {
   "hash": "e7370f93d1d0cde622a1f8e1c04877d8463912d04d973331ad4851f04de6915a"
  },
  "kernelspec": {
   "display_name": "Python 3.10.2 64-bit",
   "language": "python",
   "name": "python3"
  },
  "language_info": {
   "codemirror_mode": {
    "name": "ipython",
    "version": 3
   },
   "file_extension": ".py",
   "mimetype": "text/x-python",
   "name": "python",
   "nbconvert_exporter": "python",
   "pygments_lexer": "ipython3",
   "version": "3.10.2"
  },
  "orig_nbformat": 4
 },
 "nbformat": 4,
 "nbformat_minor": 2
}
